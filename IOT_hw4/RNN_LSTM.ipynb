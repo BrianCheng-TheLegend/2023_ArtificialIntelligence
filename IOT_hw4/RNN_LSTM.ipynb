{
 "cells": [
  {
   "cell_type": "markdown",
   "metadata": {},
   "source": [
    "# Develop the RNN Regression Model for the Roasting Quality data. The roasting machine had 5 chambers, and there were 3 temperature sensors in each chamber.The layer height and humanity were also measured. The data was collected every one minute and saved in data_X.csv. The roasting quality was measured every one hour and saved in data_Y.csv. Show the loss of each epoch.\n",
    "Hint: Some of the measurement data was missing. You have to clean the data first.\n",
    "The loss can be “mse”, “mae”, or “mape” for regression problem.\n",
    "Reference:\n",
    "https://www.kaggle.com/code/conormanley/productqualityprediction"
   ]
  },
  {
   "cell_type": "code",
   "execution_count": 65,
   "metadata": {},
   "outputs": [],
   "source": [
    "import pandas as pd\n",
    "from pandas import read_csv\n",
    "import numpy as np\n",
    "from keras import datasets\n",
    "from keras.models import Sequential\n",
    "from keras.layers import Dense, SimpleRNN, LSTM, Dropout\n",
    "from tensorflow.keras.utils import to_categorical\n",
    "from sklearn.model_selection import train_test_split\n",
    "from sklearn.preprocessing import MinMaxScaler, StandardScaler\n",
    "import datetime\n",
    "import matplotlib.pyplot as plt"
   ]
  },
  {
   "cell_type": "code",
   "execution_count": 66,
   "metadata": {
    "scrolled": true
   },
   "outputs": [],
   "source": [
    "data_X = read_csv (\"data_X.csv\", parse_dates=['date_time'])"
   ]
  },
  {
   "cell_type": "code",
   "execution_count": 67,
   "metadata": {
    "scrolled": true
   },
   "outputs": [],
   "source": [
    "data_Y = read_csv (\"data_Y.csv\", parse_dates=['date_time'])"
   ]
  },
  {
   "cell_type": "code",
   "execution_count": 68,
   "metadata": {},
   "outputs": [],
   "source": [
    "data_X[\"date_hour\"] = data_X[\"date_time\"].apply(lambda x: x.strftime(\"%d-%m-%Y-%H\"))"
   ]
  },
  {
   "cell_type": "code",
   "execution_count": 69,
   "metadata": {},
   "outputs": [
    {
     "name": "stdout",
     "output_type": "stream",
     "text": [
      "Processing: 5.7037%\n",
      "Processing: 11.4074%\n",
      "Processing: 17.1111%\n",
      "Processing: 22.8148%\n",
      "Processing: 28.5185%\n",
      "Processing: 34.2222%\n",
      "Processing: 39.9259%\n",
      "Processing: 45.6295%\n",
      "Processing: 51.3332%\n",
      "Processing: 57.0369%\n",
      "Processing: 62.7406%\n",
      "Processing: 68.4443%\n",
      "Processing: 74.1480%\n",
      "Processing: 79.8517%\n",
      "Processing: 85.5554%\n",
      "Processing: 91.2591%\n",
      "Processing: 96.9628%\n"
     ]
    }
   ],
   "source": [
    "L = list(data_X.groupby(\"date_hour\"))\n",
    "l = len(L)\n",
    "List = []\n",
    "for i in range(l):\n",
    "    dh = L[i][1][\"date_hour\"].iloc[0]\n",
    "    row = L[i][1].drop([\"date_time\", \"date_hour\"], axis=1).to_numpy().flatten().tolist()\n",
    "    row.append(dh)\n",
    "    List.append(row)\n",
    "    if (i+1)%2000 == 0:\n",
    "        print(\"Processing: %.4f%%\"%(100*(i+1)/l))\n",
    "\n",
    "df = pd.DataFrame(List)\n",
    "df[\"date_hour\"] = df[1020]\n",
    "df.drop([1020], axis=1, inplace=True)"
   ]
  },
  {
   "cell_type": "code",
   "execution_count": 70,
   "metadata": {},
   "outputs": [],
   "source": [
    "data_Y[\"date_shifted\"] = pd.to_datetime(data_Y[\"date_time\"]) - datetime.timedelta(hours=1)\n",
    "data_Y[\"date_shifted\"] = pd.to_datetime(data_Y[\"date_shifted\"])\n",
    "data_Y[\"date_shifted\"] = data_Y[\"date_shifted\"].apply(lambda x: x.strftime(\"%d-%m-%Y-%H\"))"
   ]
  },
  {
   "cell_type": "code",
   "execution_count": 71,
   "metadata": {},
   "outputs": [],
   "source": [
    "transformed_data = pd.merge(df,data_Y[[\"date_shifted\", \"quality\"]],left_on=\"date_hour\", right_on=\"date_shifted\", how=\"inner\")"
   ]
  },
  {
   "cell_type": "code",
   "execution_count": 72,
   "metadata": {},
   "outputs": [],
   "source": [
    "df_X = transformed_data.drop(columns=['date_hour', 'date_shifted', 'quality'])\n",
    "df_Y = transformed_data.quality"
   ]
  },
  {
   "cell_type": "code",
   "execution_count": 73,
   "metadata": {},
   "outputs": [],
   "source": [
    "df_X = df_X.values.reshape((df_X.shape[0], 60, 17))\n",
    "df_Y = df_Y.values.reshape((df_Y.shape[0], 1))\n",
    "df_X = np.asarray(df_X).astype('float32')\n",
    "df_Y = np.asarray(df_Y).astype('float32')"
   ]
  },
  {
   "cell_type": "code",
   "execution_count": 74,
   "metadata": {},
   "outputs": [
    {
     "name": "stdout",
     "output_type": "stream",
     "text": [
      "(23347, 60, 17)\n",
      "(23347, 1)\n"
     ]
    }
   ],
   "source": [
    "X_train, X_test, Y_train, Y_test = train_test_split(df_X, df_Y, test_size=0.2, random_state=0)\n",
    "print(X_train.shape)\n",
    "print(Y_train.shape)"
   ]
  },
  {
   "cell_type": "markdown",
   "metadata": {},
   "source": [
    "### (a) Using RNN with 50 units."
   ]
  },
  {
   "cell_type": "code",
   "execution_count": 80,
   "metadata": {},
   "outputs": [],
   "source": [
    "model = Sequential([LSTM(units = 50, activation = 'relu', input_shape = (60,17))])\n",
    "model.add(Dense(50, activation = 'relu'))\n",
    "model.add(Dense(1))\n",
    "\n",
    "model.compile(loss = 'MSE', optimizer = 'adam', metrics = ['mae'])"
   ]
  },
  {
   "cell_type": "code",
   "execution_count": 81,
   "metadata": {},
   "outputs": [
    {
     "name": "stdout",
     "output_type": "stream",
     "text": [
      "Epoch 1/40\n",
      "365/365 [==============================] - 6s 14ms/step - loss: 17112298.0000 - mae: 1515.8171\n",
      "Epoch 2/40\n",
      "365/365 [==============================] - 5s 14ms/step - loss: 164229.1875 - mae: 402.5875\n",
      "Epoch 3/40\n",
      "365/365 [==============================] - 5s 14ms/step - loss: 164073.2656 - mae: 402.3939\n",
      "Epoch 4/40\n",
      "365/365 [==============================] - 5s 14ms/step - loss: 163882.6875 - mae: 402.1568\n",
      "Epoch 5/40\n",
      "365/365 [==============================] - 5s 14ms/step - loss: 163665.5781 - mae: 401.8867\n",
      "Epoch 6/40\n",
      "365/365 [==============================] - 5s 14ms/step - loss: 163428.3125 - mae: 401.5914\n",
      "Epoch 7/40\n",
      "365/365 [==============================] - 5s 14ms/step - loss: 163175.7500 - mae: 401.2771\n",
      "Epoch 8/40\n",
      "365/365 [==============================] - 5s 14ms/step - loss: 162912.2031 - mae: 400.9484\n",
      "Epoch 9/40\n",
      "365/365 [==============================] - 5s 14ms/step - loss: 162640.5312 - mae: 400.6096\n",
      "Epoch 10/40\n",
      "365/365 [==============================] - 5s 14ms/step - loss: 162363.2812 - mae: 400.2632\n",
      "Epoch 11/40\n",
      "365/365 [==============================] - 5s 14ms/step - loss: 162081.8594 - mae: 399.9116\n",
      "Epoch 12/40\n",
      "365/365 [==============================] - 5s 14ms/step - loss: 161797.7500 - mae: 399.5562\n",
      "Epoch 13/40\n",
      "365/365 [==============================] - 5s 14ms/step - loss: 161511.8594 - mae: 399.1982\n",
      "Epoch 14/40\n",
      "365/365 [==============================] - 5s 14ms/step - loss: 161224.7812 - mae: 398.8385\n",
      "Epoch 15/40\n",
      "365/365 [==============================] - 5s 14ms/step - loss: 160936.7344 - mae: 398.4774\n",
      "Epoch 16/40\n",
      "365/365 [==============================] - 5s 14ms/step - loss: 160648.2969 - mae: 398.1154\n",
      "Epoch 17/40\n",
      "365/365 [==============================] - 5s 14ms/step - loss: 160359.7812 - mae: 397.7528\n",
      "Epoch 18/40\n",
      "365/365 [==============================] - 5s 14ms/step - loss: 160071.0938 - mae: 397.3897\n",
      "Epoch 19/40\n",
      "365/365 [==============================] - 5s 14ms/step - loss: 159782.3750 - mae: 397.0263\n",
      "Epoch 20/40\n",
      "365/365 [==============================] - 5s 14ms/step - loss: 159493.7812 - mae: 396.6628\n",
      "Epoch 21/40\n",
      "365/365 [==============================] - 5s 14ms/step - loss: 159205.3594 - mae: 396.2991\n",
      "Epoch 22/40\n",
      "365/365 [==============================] - 5s 14ms/step - loss: 158917.1250 - mae: 395.9353\n",
      "Epoch 23/40\n",
      "365/365 [==============================] - 5s 14ms/step - loss: 158629.1562 - mae: 395.5713\n",
      "Epoch 24/40\n",
      "365/365 [==============================] - 5s 14ms/step - loss: 158341.2969 - mae: 395.2073\n",
      "Epoch 25/40\n",
      "365/365 [==============================] - 5s 14ms/step - loss: 158053.7812 - mae: 394.8434\n",
      "Epoch 26/40\n",
      "365/365 [==============================] - 5s 14ms/step - loss: 157766.4219 - mae: 394.4793\n",
      "Epoch 27/40\n",
      "365/365 [==============================] - 5s 14ms/step - loss: 157479.3906 - mae: 394.1153\n",
      "Epoch 28/40\n",
      "365/365 [==============================] - 5s 14ms/step - loss: 157192.6094 - mae: 393.7514\n",
      "Epoch 29/40\n",
      "365/365 [==============================] - 5s 14ms/step - loss: 156906.1406 - mae: 393.3874\n",
      "Epoch 30/40\n",
      "365/365 [==============================] - 5s 14ms/step - loss: 156619.7812 - mae: 393.0233\n",
      "Epoch 31/40\n",
      "365/365 [==============================] - 5s 14ms/step - loss: 156333.8125 - mae: 392.6590\n",
      "Epoch 32/40\n",
      "365/365 [==============================] - 5s 14ms/step - loss: 156048.0469 - mae: 392.2951\n",
      "Epoch 33/40\n",
      "365/365 [==============================] - 5s 14ms/step - loss: 155762.6250 - mae: 391.9312\n",
      "Epoch 34/40\n",
      "365/365 [==============================] - 5s 14ms/step - loss: 155477.3906 - mae: 391.5671\n",
      "Epoch 35/40\n",
      "365/365 [==============================] - 5s 14ms/step - loss: 155192.5156 - mae: 391.2031\n",
      "Epoch 36/40\n",
      "365/365 [==============================] - 5s 14ms/step - loss: 154907.8281 - mae: 390.8392\n",
      "Epoch 37/40\n",
      "365/365 [==============================] - 5s 14ms/step - loss: 154623.3438 - mae: 390.4750\n",
      "Epoch 38/40\n",
      "365/365 [==============================] - 5s 14ms/step - loss: 154339.2188 - mae: 390.1108\n",
      "Epoch 39/40\n",
      "365/365 [==============================] - 5s 14ms/step - loss: 154055.3281 - mae: 389.7470\n",
      "Epoch 40/40\n",
      "365/365 [==============================] - 5s 14ms/step - loss: 153771.7500 - mae: 389.3831\n",
      "183/183 [==============================] - 1s 3ms/step - loss: 153790.1094 - mae: 389.4804\n",
      "loss =  153790.109375\n",
      "mape =  389.4803771972656\n"
     ]
    }
   ],
   "source": [
    "model.fit(X_train, Y_train, epochs = 40, batch_size = 64)\n",
    "loss, mape = model.evaluate(X_test, Y_test)\n",
    "print(\"loss = \", loss)\n",
    "print(\"mape = \", mape)"
   ]
  },
  {
   "cell_type": "markdown",
   "metadata": {},
   "source": [
    "### (b) Try LSTM with different units to achieve better performance if possible."
   ]
  },
  {
   "cell_type": "code",
   "execution_count": 82,
   "metadata": {},
   "outputs": [
    {
     "name": "stdout",
     "output_type": "stream",
     "text": [
      "Epoch 1/40\n",
      "365/365 [==============================] - 9s 22ms/step - loss: 438410912.0000 - mae: 6222.8643\n",
      "Epoch 2/40\n",
      "365/365 [==============================] - 8s 22ms/step - loss: 18889396.0000 - mae: 2162.6609\n",
      "Epoch 3/40\n",
      "365/365 [==============================] - 8s 22ms/step - loss: 126001.9766 - mae: 172.7282\n",
      "Epoch 4/40\n",
      "365/365 [==============================] - 8s 22ms/step - loss: 28016.4023 - mae: 83.4311\n",
      "Epoch 5/40\n",
      "365/365 [==============================] - 8s 22ms/step - loss: 16023.8750 - mae: 68.9585\n",
      "Epoch 6/40\n",
      "365/365 [==============================] - 8s 23ms/step - loss: 37139.7539 - mae: 106.4051\n",
      "Epoch 7/40\n",
      "365/365 [==============================] - 8s 22ms/step - loss: 24321.4551 - mae: 90.7869\n",
      "Epoch 8/40\n",
      "365/365 [==============================] - 8s 22ms/step - loss: 17240.3008 - mae: 71.9721\n",
      "Epoch 9/40\n",
      "365/365 [==============================] - 8s 22ms/step - loss: 15334.6328 - mae: 78.9220\n",
      "Epoch 10/40\n",
      "365/365 [==============================] - 8s 23ms/step - loss: 11777.2578 - mae: 65.4693\n",
      "Epoch 11/40\n",
      "365/365 [==============================] - 8s 22ms/step - loss: 11039.6904 - mae: 71.1798\n",
      "Epoch 12/40\n",
      "365/365 [==============================] - 8s 22ms/step - loss: 32520.1172 - mae: 104.4180\n",
      "Epoch 13/40\n",
      "365/365 [==============================] - 8s 22ms/step - loss: 12726.4531 - mae: 72.5866\n",
      "Epoch 14/40\n",
      "365/365 [==============================] - 8s 22ms/step - loss: 33209.3984 - mae: 126.3074\n",
      "Epoch 15/40\n",
      "365/365 [==============================] - 8s 22ms/step - loss: 1558465.6250 - mae: 293.5882\n",
      "Epoch 16/40\n",
      "365/365 [==============================] - 8s 22ms/step - loss: 8530.6680 - mae: 55.7110\n",
      "Epoch 17/40\n",
      "365/365 [==============================] - 8s 22ms/step - loss: 5947.3735 - mae: 51.9089\n",
      "Epoch 18/40\n",
      "365/365 [==============================] - 8s 22ms/step - loss: 7434.8662 - mae: 58.0281\n",
      "Epoch 19/40\n",
      "365/365 [==============================] - 8s 22ms/step - loss: 7043.3750 - mae: 56.1722\n",
      "Epoch 20/40\n",
      "365/365 [==============================] - 8s 22ms/step - loss: 5684.8726 - mae: 54.2030\n",
      "Epoch 21/40\n",
      "365/365 [==============================] - 8s 22ms/step - loss: 5763.1758 - mae: 54.1791\n",
      "Epoch 22/40\n",
      "365/365 [==============================] - 8s 22ms/step - loss: 7892.4204 - mae: 58.8506\n",
      "Epoch 23/40\n",
      "365/365 [==============================] - 8s 22ms/step - loss: 34684.2305 - mae: 69.7137\n",
      "Epoch 24/40\n",
      "365/365 [==============================] - 8s 22ms/step - loss: 13688.8730 - mae: 65.7906\n",
      "Epoch 25/40\n",
      "365/365 [==============================] - 8s 22ms/step - loss: 25466.4160 - mae: 107.7735\n",
      "Epoch 26/40\n",
      "365/365 [==============================] - 8s 23ms/step - loss: 6997.6992 - mae: 58.2292\n",
      "Epoch 27/40\n",
      "365/365 [==============================] - 8s 22ms/step - loss: 5411.5068 - mae: 48.7703\n",
      "Epoch 28/40\n",
      "365/365 [==============================] - 8s 22ms/step - loss: 4647.3765 - mae: 42.6094\n",
      "Epoch 29/40\n",
      "365/365 [==============================] - 8s 22ms/step - loss: 5308.1401 - mae: 40.6070\n",
      "Epoch 30/40\n",
      "365/365 [==============================] - 8s 23ms/step - loss: 3721.2825 - mae: 45.3537\n",
      "Epoch 31/40\n",
      "365/365 [==============================] - 8s 22ms/step - loss: 6949.4482 - mae: 46.6995\n",
      "Epoch 32/40\n",
      "365/365 [==============================] - 8s 22ms/step - loss: 10187.6855 - mae: 62.3678\n",
      "Epoch 33/40\n",
      "365/365 [==============================] - 8s 22ms/step - loss: 2321.7021 - mae: 37.5760\n",
      "Epoch 34/40\n",
      "365/365 [==============================] - 8s 23ms/step - loss: 8720758.0000 - mae: 1476.7804\n",
      "Epoch 35/40\n",
      "365/365 [==============================] - 8s 23ms/step - loss: 13314.3945 - mae: 75.3103\n",
      "Epoch 36/40\n",
      "365/365 [==============================] - 8s 23ms/step - loss: 5224.0845 - mae: 53.6366\n",
      "Epoch 37/40\n",
      "365/365 [==============================] - 8s 22ms/step - loss: 5948.7832 - mae: 54.4411\n",
      "Epoch 38/40\n",
      "365/365 [==============================] - 8s 22ms/step - loss: 6614.0371 - mae: 60.0327\n",
      "Epoch 39/40\n",
      "365/365 [==============================] - 8s 23ms/step - loss: 6887.7378 - mae: 61.7961\n",
      "Epoch 40/40\n",
      "365/365 [==============================] - 8s 23ms/step - loss: 7348720.0000 - mae: 764.4193\n",
      "183/183 [==============================] - 2s 8ms/step - loss: 3483.1875 - mae: 48.5602\n",
      "loss =  3483.1875\n",
      "mape =  48.56021499633789\n"
     ]
    }
   ],
   "source": [
    "model = Sequential([LSTM(units = 100, activation = 'relu', input_shape = (60,17))])\n",
    "model.add(Dense(50, activation = 'relu'))\n",
    "model.add(Dense(1))\n",
    "\n",
    "model.compile(loss = 'MSE', optimizer = 'adam', metrics = ['mae'])\n",
    "model.fit(X_train, Y_train, epochs = 40, batch_size = 64)\n",
    "loss, mape = model.evaluate(X_test, Y_test)\n",
    "print(\"loss = \", loss)\n",
    "print(\"mape = \", mape)"
   ]
  },
  {
   "cell_type": "code",
   "execution_count": 83,
   "metadata": {},
   "outputs": [
    {
     "name": "stdout",
     "output_type": "stream",
     "text": [
      "Epoch 1/40\n",
      "365/365 [==============================] - 14s 36ms/step - loss: 172278.2031 - mae: 405.1019\n",
      "Epoch 2/40\n",
      "365/365 [==============================] - 13s 36ms/step - loss: 163932.6875 - mae: 402.2190\n",
      "Epoch 3/40\n",
      "365/365 [==============================] - 13s 36ms/step - loss: 163639.8594 - mae: 401.8550\n",
      "Epoch 4/40\n",
      "365/365 [==============================] - 13s 36ms/step - loss: 163347.1406 - mae: 401.4905\n",
      "Epoch 5/40\n",
      "365/365 [==============================] - 13s 36ms/step - loss: 163054.7031 - mae: 401.1263\n",
      "Epoch 6/40\n",
      "365/365 [==============================] - 13s 36ms/step - loss: 162762.6406 - mae: 400.7620\n",
      "Epoch 7/40\n",
      "365/365 [==============================] - 13s 36ms/step - loss: 162470.8281 - mae: 400.3976\n",
      "Epoch 8/40\n",
      "365/365 [==============================] - 13s 36ms/step - loss: 162179.3594 - mae: 400.0335\n",
      "Epoch 9/40\n",
      "365/365 [==============================] - 13s 36ms/step - loss: 161888.1250 - mae: 399.6693\n",
      "Epoch 10/40\n",
      "365/365 [==============================] - 13s 36ms/step - loss: 161597.1562 - mae: 399.3051\n",
      "Epoch 11/40\n",
      "365/365 [==============================] - 13s 36ms/step - loss: 161306.5625 - mae: 398.9410\n",
      "Epoch 12/40\n",
      "365/365 [==============================] - 13s 36ms/step - loss: 161016.0938 - mae: 398.5769\n",
      "Epoch 13/40\n",
      "365/365 [==============================] - 13s 36ms/step - loss: 160725.9844 - mae: 398.2129\n",
      "Epoch 14/40\n",
      "365/365 [==============================] - 13s 36ms/step - loss: 160436.1562 - mae: 397.8488\n",
      "Epoch 15/40\n",
      "365/365 [==============================] - 13s 36ms/step - loss: 160146.5938 - mae: 397.4847\n",
      "Epoch 16/40\n",
      "365/365 [==============================] - 13s 37ms/step - loss: 159857.2656 - mae: 397.1206\n",
      "Epoch 17/40\n",
      "365/365 [==============================] - 13s 36ms/step - loss: 159568.2812 - mae: 396.7565\n",
      "Epoch 18/40\n",
      "365/365 [==============================] - 13s 36ms/step - loss: 159279.5938 - mae: 396.3924\n",
      "Epoch 19/40\n",
      "365/365 [==============================] - 13s 36ms/step - loss: 158991.0938 - mae: 396.0284\n",
      "Epoch 20/40\n",
      "365/365 [==============================] - 13s 36ms/step - loss: 158702.8906 - mae: 395.6645\n",
      "Epoch 21/40\n",
      "365/365 [==============================] - 13s 36ms/step - loss: 158415.0156 - mae: 395.3003\n",
      "Epoch 22/40\n",
      "365/365 [==============================] - 13s 36ms/step - loss: 158127.2344 - mae: 394.9363\n",
      "Epoch 23/40\n",
      "365/365 [==============================] - 13s 36ms/step - loss: 157839.8125 - mae: 394.5721\n",
      "Epoch 24/40\n",
      "365/365 [==============================] - 13s 36ms/step - loss: 157552.7031 - mae: 394.2083\n",
      "Epoch 25/40\n",
      "365/365 [==============================] - 13s 35ms/step - loss: 157265.7500 - mae: 393.8441\n",
      "Epoch 26/40\n",
      "365/365 [==============================] - 13s 36ms/step - loss: 156979.0312 - mae: 393.4802\n",
      "Epoch 27/40\n",
      "365/365 [==============================] - 13s 36ms/step - loss: 156692.5781 - mae: 393.1159\n",
      "Epoch 28/40\n",
      "365/365 [==============================] - 12s 33ms/step - loss: 156406.5625 - mae: 392.7518\n",
      "Epoch 29/40\n",
      "365/365 [==============================] - 11s 30ms/step - loss: 156120.7969 - mae: 392.3878\n",
      "Epoch 30/40\n",
      "365/365 [==============================] - 11s 29ms/step - loss: 155835.2656 - mae: 392.0239\n",
      "Epoch 31/40\n",
      "365/365 [==============================] - 10s 28ms/step - loss: 155550.0156 - mae: 391.6598\n",
      "Epoch 32/40\n",
      "365/365 [==============================] - 10s 27ms/step - loss: 155264.9375 - mae: 391.2956\n",
      "Epoch 33/40\n",
      "365/365 [==============================] - 10s 27ms/step - loss: 154980.2031 - mae: 390.9317\n",
      "Epoch 34/40\n",
      "365/365 [==============================] - 10s 27ms/step - loss: 154695.7188 - mae: 390.5678\n",
      "Epoch 35/40\n",
      "365/365 [==============================] - 10s 27ms/step - loss: 154411.5156 - mae: 390.2036\n",
      "Epoch 36/40\n",
      "365/365 [==============================] - 12s 32ms/step - loss: 154127.5000 - mae: 389.8398\n",
      "Epoch 37/40\n",
      "365/365 [==============================] - 13s 37ms/step - loss: 153843.7656 - mae: 389.4756\n",
      "Epoch 38/40\n",
      "365/365 [==============================] - 13s 36ms/step - loss: 153560.3438 - mae: 389.1116\n",
      "Epoch 39/40\n",
      "365/365 [==============================] - 13s 36ms/step - loss: 153277.2344 - mae: 388.7476\n",
      "Epoch 40/40\n",
      "365/365 [==============================] - 13s 37ms/step - loss: 152994.3438 - mae: 388.3836\n",
      "183/183 [==============================] - 2s 12ms/step - loss: 153012.5938 - mae: 388.4810\n",
      "loss =  153012.59375\n",
      "mape =  388.48101806640625\n"
     ]
    }
   ],
   "source": [
    "model = Sequential([LSTM(units = 150, activation = 'relu', input_shape = (60,17))])\n",
    "model.add(Dense(50, activation = 'relu'))\n",
    "model.add(Dense(1))\n",
    "\n",
    "model.compile(loss = 'MSE', optimizer = 'adam', metrics = ['mae'])\n",
    "model.fit(X_train, Y_train, epochs = 40, batch_size = 64)\n",
    "loss, mape = model.evaluate(X_test, Y_test)\n",
    "print(\"loss = \", loss)\n",
    "print(\"mape = \", mape)"
   ]
  },
  {
   "cell_type": "code",
   "execution_count": null,
   "metadata": {},
   "outputs": [],
   "source": []
  }
 ],
 "metadata": {
  "kernelspec": {
   "display_name": "Python 3 (ipykernel)",
   "language": "python",
   "name": "python3"
  },
  "language_info": {
   "codemirror_mode": {
    "name": "ipython",
    "version": 3
   },
   "file_extension": ".py",
   "mimetype": "text/x-python",
   "name": "python",
   "nbconvert_exporter": "python",
   "pygments_lexer": "ipython3",
   "version": "3.10.12"
  }
 },
 "nbformat": 4,
 "nbformat_minor": 4
}
