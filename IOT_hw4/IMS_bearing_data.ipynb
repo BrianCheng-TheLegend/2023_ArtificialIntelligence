{
 "cells": [
  {
   "cell_type": "markdown",
   "id": "ddf5da47-c9d4-4561-8135-74c4c30bf054",
   "metadata": {},
   "source": [
    "# Hw04"
   ]
  },
  {
   "cell_type": "markdown",
   "id": "47d50e55-1c2b-4c4b-b9b2-1bb2e7a4f258",
   "metadata": {},
   "source": [
    "## Read signals of Ch 1 in the 2nd test dataset of IMS bearing data. Calculate the mean, standard deviation, variation, skewness, and kurtosis of the data as the 5-dimensional features."
   ]
  },
  {
   "cell_type": "code",
   "execution_count": 36,
   "id": "d3f85146-2bb9-42d8-b759-dfb174c5ee8b",
   "metadata": {},
   "outputs": [],
   "source": [
    "import numpy as np\n",
    "import os\n",
    "import pandas as pd\n",
    "from scipy.stats import skew \n",
    "from scipy.stats import kurtosis"
   ]
  },
  {
   "cell_type": "code",
   "execution_count": 37,
   "id": "c5680f49-a995-4a3e-bbf0-aebebc6ef503",
   "metadata": {},
   "outputs": [
    {
     "data": {
      "text/plain": [
       "(984, 5)"
      ]
     },
     "execution_count": 37,
     "metadata": {},
     "output_type": "execute_result"
    }
   ],
   "source": [
    "path, dirs, files = next(os.walk(\"./IMS_data/\"))\n",
    "Features=[]\n",
    "for file in files:\n",
    "    data = pd.read_csv('./IMS_data/'+file, sep = '\\t',\n",
    "                       names = ['ch1', 'ch2', 'ch3', 'ch4'])\n",
    "    ch1 = data.ch1.values\n",
    "    mn = np.mean(ch1)\n",
    "    sd = np.std(ch1)\n",
    "    v = np.var(ch1)\n",
    "    sk = skew(ch1)\n",
    "    ku = kurtosis(ch1)\n",
    "    Features.append([mn, sd, v, sk, ku])\n",
    "X = np.asarray(Features)\n",
    "X.shape"
   ]
  },
  {
   "cell_type": "markdown",
   "id": "5ace4bf2-938c-4ca6-b547-64542b861158",
   "metadata": {},
   "source": [
    "### (a) Consider the bearing was good at the first one forth of the running time, and it was failed at the last one forth of the running time. Please develop an MLP model to classify whether the bearing is good or not."
   ]
  },
  {
   "cell_type": "code",
   "execution_count": 38,
   "id": "1bee64b6-4269-4665-9acd-d0a7211b6986",
   "metadata": {},
   "outputs": [
    {
     "name": "stdout",
     "output_type": "stream",
     "text": [
      "246 246\n"
     ]
    }
   ],
   "source": [
    "quater_point = len(X)//4\n",
    "X_health = X[:quater_point]\n",
    "X_unhealth = X[3*quater_point:]\n",
    "health_len = len(X_health)\n",
    "unhealth_len = len(X_unhealth)\n",
    "print(health_len,unhealth_len)"
   ]
  },
  {
   "cell_type": "code",
   "execution_count": 39,
   "id": "31de5241-0ddd-4bbc-a613-2ea6018dec76",
   "metadata": {},
   "outputs": [],
   "source": [
    "Y_health = np.ones(health_len)\n",
    "Y_unhealth = np.zeros(unhealth_len)\n",
    "X_combined = np.concatenate((X_health, X_unhealth))\n",
    "Y_combined = np.concatenate((Y_health, Y_unhealth))"
   ]
  },
  {
   "cell_type": "code",
   "execution_count": 40,
   "id": "5e5508b4-3e7b-4c28-8c31-bae3958c6939",
   "metadata": {},
   "outputs": [],
   "source": [
    "from sklearn.neural_network import MLPClassifier\n",
    "from sklearn.model_selection import train_test_split\n",
    "X_train, X_test, Y_train, Y_test = train_test_split(X_combined, Y_combined, train_size = 0.75, test_size = 0.25, random_state = 0)"
   ]
  },
  {
   "cell_type": "code",
   "execution_count": 41,
   "id": "be7fd232-88a2-469c-a642-9bf72f136c57",
   "metadata": {},
   "outputs": [
    {
     "name": "stdout",
     "output_type": "stream",
     "text": [
      "1 0.4878048780487805\n",
      "2 0.5447154471544715\n",
      "3 0.4878048780487805\n",
      "4 0.5121951219512195\n",
      "5 0.4878048780487805\n",
      "6 0.4959349593495935\n",
      "7 0.5121951219512195\n",
      "8 0.4959349593495935\n",
      "9 0.5121951219512195\n",
      "10 0.4959349593495935\n",
      "11 0.4796747967479675\n",
      "12 0.4959349593495935\n",
      "13 0.4878048780487805\n",
      "14 0.5121951219512195\n",
      "15 0.4878048780487805\n",
      "16 0.5121951219512195\n",
      "17 0.4878048780487805\n",
      "18 0.5040650406504065\n",
      "19 0.5040650406504065\n",
      "20 0.5121951219512195\n",
      "21 0.5121951219512195\n",
      "22 0.5040650406504065\n",
      "23 0.4959349593495935\n",
      "24 0.4959349593495935\n",
      "25 0.4959349593495935\n",
      "26 0.5040650406504065\n",
      "27 0.4959349593495935\n",
      "28 0.5121951219512195\n",
      "29 0.5040650406504065\n",
      "30 0.4878048780487805\n",
      "===============\n",
      "best_score =  0.5447154471544715\n",
      "best_N =  2\n"
     ]
    }
   ],
   "source": [
    "best_score = 0\n",
    "best_N = 0\n",
    "for i in range(30):\n",
    "    model = MLPClassifier(hidden_layer_sizes=(i+1,i+1,i+1), random_state = 1, activation = 'relu', solver = 'adam', alpha=1e-4, max_iter = 100000\n",
    "                          ,learning_rate_init=.1)\n",
    "    model.fit(X_train, Y_train)\n",
    "    score = model.score(X_test, Y_test)\n",
    "    # Y_pred = model.predict(X_test)\n",
    "    # print(Y_pred)\n",
    "    print(i+1,score)\n",
    "    if best_score < score:\n",
    "        best_score = score\n",
    "        best_N = i+1\n",
    "print(\"===============\")\n",
    "print(\"best_score = \", best_score)\n",
    "print(\"best_N = \", best_N)"
   ]
  },
  {
   "cell_type": "markdown",
   "id": "fbac1d02-1c62-4bc5-93ec-1ea8b8956a7b",
   "metadata": {},
   "source": [
    "### (b) Reduce the features into 3 by PCA and develop the MLP model again."
   ]
  },
  {
   "cell_type": "code",
   "execution_count": 42,
   "id": "c5db75eb-51c5-488d-90be-1421cf1584a1",
   "metadata": {},
   "outputs": [
    {
     "data": {
      "text/plain": [
       "(984, 3)"
      ]
     },
     "execution_count": 42,
     "metadata": {},
     "output_type": "execute_result"
    }
   ],
   "source": [
    "from sklearn.decomposition import PCA\n",
    "pca_3 = PCA(n_components = 3,svd_solver = 'full')\n",
    "pca_3.fit(Features)\n",
    "# # Reduce the features into 3 by PCA\n",
    "X_pca = pca_3.transform(Features)\n",
    "X_pca.shape"
   ]
  },
  {
   "cell_type": "code",
   "execution_count": 43,
   "id": "d87c5e4f-a373-4783-a44f-9211b98ca071",
   "metadata": {},
   "outputs": [],
   "source": [
    "quater_point = len(X_pca)//4\n",
    "X_health = X_pca[:quater_point]\n",
    "X_unhealth = X_pca[3*quater_point:]\n",
    "health_len = len(X_health)\n",
    "unhealth_len = len(X_unhealth)"
   ]
  },
  {
   "cell_type": "code",
   "execution_count": 44,
   "id": "6af8fa14-f165-44f0-b060-d0af9643d2d9",
   "metadata": {},
   "outputs": [],
   "source": [
    "Y_health = np.ones(health_len)\n",
    "Y_unhealth = np.zeros(unhealth_len)\n",
    "X_combined = np.concatenate((X_health, X_unhealth))\n",
    "Y_combined = np.concatenate((Y_health, Y_unhealth))"
   ]
  },
  {
   "cell_type": "code",
   "execution_count": 45,
   "id": "e4d4079e-1a11-44ca-9c4c-54471333c400",
   "metadata": {},
   "outputs": [],
   "source": [
    "from sklearn.neural_network import MLPClassifier\n",
    "from sklearn.model_selection import train_test_split\n",
    "X_train, X_test, Y_train, Y_test = train_test_split(X_combined, Y_combined, train_size = 0.75, test_size = 0.25, random_state = 0)"
   ]
  },
  {
   "cell_type": "code",
   "execution_count": 46,
   "id": "61846a1e-8d63-4f46-a7bb-e95b53512778",
   "metadata": {},
   "outputs": [
    {
     "name": "stdout",
     "output_type": "stream",
     "text": [
      "1 0.4878048780487805\n",
      "2 0.5121951219512195\n",
      "3 0.4878048780487805\n",
      "4 0.4959349593495935\n",
      "5 0.4878048780487805\n",
      "6 0.4959349593495935\n",
      "7 0.4878048780487805\n",
      "8 0.4959349593495935\n",
      "9 0.4878048780487805\n",
      "10 0.4959349593495935\n",
      "11 0.4878048780487805\n",
      "12 0.5040650406504065\n",
      "13 0.4878048780487805\n",
      "14 0.5040650406504065\n",
      "15 0.4796747967479675\n",
      "16 0.4959349593495935\n",
      "17 0.5040650406504065\n",
      "18 0.4959349593495935\n",
      "19 0.4959349593495935\n",
      "20 0.5040650406504065\n",
      "21 0.5121951219512195\n",
      "22 0.5040650406504065\n",
      "23 0.5609756097560976\n",
      "24 0.4796747967479675\n",
      "25 0.5040650406504065\n",
      "26 0.4878048780487805\n",
      "27 0.4959349593495935\n",
      "28 0.5040650406504065\n",
      "29 0.5121951219512195\n",
      "30 0.4796747967479675\n",
      "===============\n",
      "best_score =  0.5609756097560976\n",
      "best_N =  23\n"
     ]
    }
   ],
   "source": [
    "best_score = 0\n",
    "best_N = 0\n",
    "for i in range(30):\n",
    "    model = MLPClassifier(hidden_layer_sizes=(i+1,i+1,i+1), random_state = 0, activation = 'relu', solver = 'adam', alpha=1e-4, max_iter = 100000\n",
    "                          ,learning_rate_init=.1)\n",
    "    model.fit(X_train, Y_train)\n",
    "    score = model.score(X_test, Y_test)\n",
    "    # Y_pred = model.predict(X_test)\n",
    "    # print(Y_pred)\n",
    "    print(i+1,score)\n",
    "    if best_score < score:\n",
    "        best_score = score\n",
    "        best_N = i+1\n",
    "print(\"===============\")\n",
    "print(\"best_score = \", best_score)\n",
    "print(\"best_N = \", best_N)"
   ]
  },
  {
   "cell_type": "code",
   "execution_count": null,
   "id": "28215af7-c3db-4edc-ab7d-1cf254ae2c5d",
   "metadata": {},
   "outputs": [],
   "source": []
  }
 ],
 "metadata": {
  "kernelspec": {
   "display_name": "Python 3 (ipykernel)",
   "language": "python",
   "name": "python3"
  },
  "language_info": {
   "codemirror_mode": {
    "name": "ipython",
    "version": 3
   },
   "file_extension": ".py",
   "mimetype": "text/x-python",
   "name": "python",
   "nbconvert_exporter": "python",
   "pygments_lexer": "ipython3",
   "version": "3.10.12"
  }
 },
 "nbformat": 4,
 "nbformat_minor": 5
}
